{
 "cells": [
  {
   "cell_type": "code",
   "execution_count": 1,
   "id": "8b5fb25b",
   "metadata": {},
   "outputs": [],
   "source": [
    "import pandas as pd\n"
   ]
  },
  {
   "cell_type": "code",
   "execution_count": 2,
   "id": "ffeb7fd1",
   "metadata": {},
   "outputs": [],
   "source": [
    "df = pd.read_csv(\"spotify_millsongdata.csv\")"
   ]
  },
  {
   "cell_type": "code",
   "execution_count": 3,
   "id": "f27e5bb8",
   "metadata": {},
   "outputs": [
    {
     "data": {
      "text/html": [
       "<div>\n",
       "<style scoped>\n",
       "    .dataframe tbody tr th:only-of-type {\n",
       "        vertical-align: middle;\n",
       "    }\n",
       "\n",
       "    .dataframe tbody tr th {\n",
       "        vertical-align: top;\n",
       "    }\n",
       "\n",
       "    .dataframe thead th {\n",
       "        text-align: right;\n",
       "    }\n",
       "</style>\n",
       "<table border=\"1\" class=\"dataframe\">\n",
       "  <thead>\n",
       "    <tr style=\"text-align: right;\">\n",
       "      <th></th>\n",
       "      <th>artist</th>\n",
       "      <th>song</th>\n",
       "      <th>link</th>\n",
       "      <th>text</th>\n",
       "    </tr>\n",
       "  </thead>\n",
       "  <tbody>\n",
       "    <tr>\n",
       "      <th>0</th>\n",
       "      <td>ABBA</td>\n",
       "      <td>Ahe's My Kind Of Girl</td>\n",
       "      <td>/a/abba/ahes+my+kind+of+girl_20598417.html</td>\n",
       "      <td>Look at her face, it's a wonderful face  \\r\\nA...</td>\n",
       "    </tr>\n",
       "    <tr>\n",
       "      <th>1</th>\n",
       "      <td>ABBA</td>\n",
       "      <td>Andante, Andante</td>\n",
       "      <td>/a/abba/andante+andante_20002708.html</td>\n",
       "      <td>Take it easy with me, please  \\r\\nTouch me gen...</td>\n",
       "    </tr>\n",
       "    <tr>\n",
       "      <th>2</th>\n",
       "      <td>ABBA</td>\n",
       "      <td>As Good As New</td>\n",
       "      <td>/a/abba/as+good+as+new_20003033.html</td>\n",
       "      <td>I'll never know why I had to go  \\r\\nWhy I had...</td>\n",
       "    </tr>\n",
       "    <tr>\n",
       "      <th>3</th>\n",
       "      <td>ABBA</td>\n",
       "      <td>Bang</td>\n",
       "      <td>/a/abba/bang_20598415.html</td>\n",
       "      <td>Making somebody happy is a question of give an...</td>\n",
       "    </tr>\n",
       "    <tr>\n",
       "      <th>4</th>\n",
       "      <td>ABBA</td>\n",
       "      <td>Bang-A-Boomerang</td>\n",
       "      <td>/a/abba/bang+a+boomerang_20002668.html</td>\n",
       "      <td>Making somebody happy is a question of give an...</td>\n",
       "    </tr>\n",
       "  </tbody>\n",
       "</table>\n",
       "</div>"
      ],
      "text/plain": [
       "  artist                   song                                        link  \\\n",
       "0   ABBA  Ahe's My Kind Of Girl  /a/abba/ahes+my+kind+of+girl_20598417.html   \n",
       "1   ABBA       Andante, Andante       /a/abba/andante+andante_20002708.html   \n",
       "2   ABBA         As Good As New        /a/abba/as+good+as+new_20003033.html   \n",
       "3   ABBA                   Bang                  /a/abba/bang_20598415.html   \n",
       "4   ABBA       Bang-A-Boomerang      /a/abba/bang+a+boomerang_20002668.html   \n",
       "\n",
       "                                                text  \n",
       "0  Look at her face, it's a wonderful face  \\r\\nA...  \n",
       "1  Take it easy with me, please  \\r\\nTouch me gen...  \n",
       "2  I'll never know why I had to go  \\r\\nWhy I had...  \n",
       "3  Making somebody happy is a question of give an...  \n",
       "4  Making somebody happy is a question of give an...  "
      ]
     },
     "execution_count": 3,
     "metadata": {},
     "output_type": "execute_result"
    }
   ],
   "source": [
    "df.head(5)"
   ]
  },
  {
   "cell_type": "code",
   "execution_count": 4,
   "id": "1cb218e5",
   "metadata": {},
   "outputs": [
    {
     "data": {
      "text/html": [
       "<div>\n",
       "<style scoped>\n",
       "    .dataframe tbody tr th:only-of-type {\n",
       "        vertical-align: middle;\n",
       "    }\n",
       "\n",
       "    .dataframe tbody tr th {\n",
       "        vertical-align: top;\n",
       "    }\n",
       "\n",
       "    .dataframe thead th {\n",
       "        text-align: right;\n",
       "    }\n",
       "</style>\n",
       "<table border=\"1\" class=\"dataframe\">\n",
       "  <thead>\n",
       "    <tr style=\"text-align: right;\">\n",
       "      <th></th>\n",
       "      <th>artist</th>\n",
       "      <th>song</th>\n",
       "      <th>link</th>\n",
       "      <th>text</th>\n",
       "    </tr>\n",
       "  </thead>\n",
       "  <tbody>\n",
       "    <tr>\n",
       "      <th>57645</th>\n",
       "      <td>Ziggy Marley</td>\n",
       "      <td>Good Old Days</td>\n",
       "      <td>/z/ziggy+marley/good+old+days_10198588.html</td>\n",
       "      <td>Irie days come on play  \\r\\nLet the angels fly...</td>\n",
       "    </tr>\n",
       "    <tr>\n",
       "      <th>57646</th>\n",
       "      <td>Ziggy Marley</td>\n",
       "      <td>Hand To Mouth</td>\n",
       "      <td>/z/ziggy+marley/hand+to+mouth_20531167.html</td>\n",
       "      <td>Power to the workers  \\r\\nMore power  \\r\\nPowe...</td>\n",
       "    </tr>\n",
       "    <tr>\n",
       "      <th>57647</th>\n",
       "      <td>Zwan</td>\n",
       "      <td>Come With Me</td>\n",
       "      <td>/z/zwan/come+with+me_20148981.html</td>\n",
       "      <td>all you need  \\r\\nis something i'll believe  \\...</td>\n",
       "    </tr>\n",
       "    <tr>\n",
       "      <th>57648</th>\n",
       "      <td>Zwan</td>\n",
       "      <td>Desire</td>\n",
       "      <td>/z/zwan/desire_20148986.html</td>\n",
       "      <td>northern star  \\r\\nam i frightened  \\r\\nwhere ...</td>\n",
       "    </tr>\n",
       "    <tr>\n",
       "      <th>57649</th>\n",
       "      <td>Zwan</td>\n",
       "      <td>Heartsong</td>\n",
       "      <td>/z/zwan/heartsong_20148991.html</td>\n",
       "      <td>come in  \\r\\nmake yourself at home  \\r\\ni'm a ...</td>\n",
       "    </tr>\n",
       "  </tbody>\n",
       "</table>\n",
       "</div>"
      ],
      "text/plain": [
       "             artist           song  \\\n",
       "57645  Ziggy Marley  Good Old Days   \n",
       "57646  Ziggy Marley  Hand To Mouth   \n",
       "57647          Zwan   Come With Me   \n",
       "57648          Zwan         Desire   \n",
       "57649          Zwan      Heartsong   \n",
       "\n",
       "                                              link  \\\n",
       "57645  /z/ziggy+marley/good+old+days_10198588.html   \n",
       "57646  /z/ziggy+marley/hand+to+mouth_20531167.html   \n",
       "57647           /z/zwan/come+with+me_20148981.html   \n",
       "57648                 /z/zwan/desire_20148986.html   \n",
       "57649              /z/zwan/heartsong_20148991.html   \n",
       "\n",
       "                                                    text  \n",
       "57645  Irie days come on play  \\r\\nLet the angels fly...  \n",
       "57646  Power to the workers  \\r\\nMore power  \\r\\nPowe...  \n",
       "57647  all you need  \\r\\nis something i'll believe  \\...  \n",
       "57648  northern star  \\r\\nam i frightened  \\r\\nwhere ...  \n",
       "57649  come in  \\r\\nmake yourself at home  \\r\\ni'm a ...  "
      ]
     },
     "execution_count": 4,
     "metadata": {},
     "output_type": "execute_result"
    }
   ],
   "source": [
    "df.tail(5)\n"
   ]
  },
  {
   "cell_type": "code",
   "execution_count": 5,
   "id": "1ad9978a",
   "metadata": {},
   "outputs": [
    {
     "data": {
      "text/plain": [
       "(57650, 4)"
      ]
     },
     "execution_count": 5,
     "metadata": {},
     "output_type": "execute_result"
    }
   ],
   "source": [
    "df.shape\n"
   ]
  },
  {
   "cell_type": "code",
   "execution_count": 6,
   "id": "f5eb20b1",
   "metadata": {},
   "outputs": [
    {
     "data": {
      "text/plain": [
       "artist    0\n",
       "song      0\n",
       "link      0\n",
       "text      0\n",
       "dtype: int64"
      ]
     },
     "execution_count": 6,
     "metadata": {},
     "output_type": "execute_result"
    }
   ],
   "source": [
    "df.isnull().sum()"
   ]
  },
  {
   "cell_type": "code",
   "execution_count": 7,
   "id": "504c65da",
   "metadata": {},
   "outputs": [],
   "source": [
    "df =df.sample(3000).drop('link', axis=1).reset_index(drop=True)"
   ]
  },
  {
   "cell_type": "code",
   "execution_count": 8,
   "id": "f4212d3c",
   "metadata": {},
   "outputs": [
    {
     "data": {
      "text/html": [
       "<div>\n",
       "<style scoped>\n",
       "    .dataframe tbody tr th:only-of-type {\n",
       "        vertical-align: middle;\n",
       "    }\n",
       "\n",
       "    .dataframe tbody tr th {\n",
       "        vertical-align: top;\n",
       "    }\n",
       "\n",
       "    .dataframe thead th {\n",
       "        text-align: right;\n",
       "    }\n",
       "</style>\n",
       "<table border=\"1\" class=\"dataframe\">\n",
       "  <thead>\n",
       "    <tr style=\"text-align: right;\">\n",
       "      <th></th>\n",
       "      <th>artist</th>\n",
       "      <th>song</th>\n",
       "      <th>text</th>\n",
       "    </tr>\n",
       "  </thead>\n",
       "  <tbody>\n",
       "    <tr>\n",
       "      <th>0</th>\n",
       "      <td>Natalie Cole</td>\n",
       "      <td>Somewhere Along The Way</td>\n",
       "      <td>I used to walk with you  \\r\\nAlong the avenue ...</td>\n",
       "    </tr>\n",
       "    <tr>\n",
       "      <th>1</th>\n",
       "      <td>Paul Simon</td>\n",
       "      <td>Beautiful</td>\n",
       "      <td>Snowman sittin' in the sun doesn't have time t...</td>\n",
       "    </tr>\n",
       "    <tr>\n",
       "      <th>2</th>\n",
       "      <td>Zac Brown Band</td>\n",
       "      <td>Let It Go</td>\n",
       "      <td>Spent the night with a friend of mine and a ha...</td>\n",
       "    </tr>\n",
       "    <tr>\n",
       "      <th>3</th>\n",
       "      <td>Pitbull</td>\n",
       "      <td>Dark Horse Remix</td>\n",
       "      <td>Oh  \\r\\nNo  \\r\\nYeah  \\r\\nYa'll know what it i...</td>\n",
       "    </tr>\n",
       "    <tr>\n",
       "      <th>4</th>\n",
       "      <td>Christmas Songs</td>\n",
       "      <td>Es Ist Ein Ros' Entsprungen</td>\n",
       "      <td>Es ist ein Ros' entsprungen, aus einer Wurzel ...</td>\n",
       "    </tr>\n",
       "    <tr>\n",
       "      <th>5</th>\n",
       "      <td>Nicki Minaj</td>\n",
       "      <td>The Night Is Still Young</td>\n",
       "      <td>[Verse 1]  \\r\\nYo, ayo tonight is the night th...</td>\n",
       "    </tr>\n",
       "    <tr>\n",
       "      <th>6</th>\n",
       "      <td>Jimi Hendrix</td>\n",
       "      <td>Voodo Chile</td>\n",
       "      <td>Well I'm A vooodoo chile  \\r\\nlord I'm A voodo...</td>\n",
       "    </tr>\n",
       "    <tr>\n",
       "      <th>7</th>\n",
       "      <td>Face To Face</td>\n",
       "      <td>Everyone Hates A Know-It-All</td>\n",
       "      <td>In a flash I'll change the universe or at leas...</td>\n",
       "    </tr>\n",
       "    <tr>\n",
       "      <th>8</th>\n",
       "      <td>David Allan Coe</td>\n",
       "      <td>Just In Time (To Watch Love Die)</td>\n",
       "      <td>There's a stack of daily papers on her doorste...</td>\n",
       "    </tr>\n",
       "    <tr>\n",
       "      <th>9</th>\n",
       "      <td>Natalie Cole</td>\n",
       "      <td>How Do You Keep The Music Playing?</td>\n",
       "      <td>How do you keep  \\r\\nThe music playing?  \\r\\nH...</td>\n",
       "    </tr>\n",
       "  </tbody>\n",
       "</table>\n",
       "</div>"
      ],
      "text/plain": [
       "            artist                                song  \\\n",
       "0     Natalie Cole             Somewhere Along The Way   \n",
       "1       Paul Simon                           Beautiful   \n",
       "2   Zac Brown Band                           Let It Go   \n",
       "3          Pitbull                    Dark Horse Remix   \n",
       "4  Christmas Songs         Es Ist Ein Ros' Entsprungen   \n",
       "5      Nicki Minaj            The Night Is Still Young   \n",
       "6     Jimi Hendrix                         Voodo Chile   \n",
       "7     Face To Face        Everyone Hates A Know-It-All   \n",
       "8  David Allan Coe    Just In Time (To Watch Love Die)   \n",
       "9     Natalie Cole  How Do You Keep The Music Playing?   \n",
       "\n",
       "                                                text  \n",
       "0  I used to walk with you  \\r\\nAlong the avenue ...  \n",
       "1  Snowman sittin' in the sun doesn't have time t...  \n",
       "2  Spent the night with a friend of mine and a ha...  \n",
       "3  Oh  \\r\\nNo  \\r\\nYeah  \\r\\nYa'll know what it i...  \n",
       "4  Es ist ein Ros' entsprungen, aus einer Wurzel ...  \n",
       "5  [Verse 1]  \\r\\nYo, ayo tonight is the night th...  \n",
       "6  Well I'm A vooodoo chile  \\r\\nlord I'm A voodo...  \n",
       "7  In a flash I'll change the universe or at leas...  \n",
       "8  There's a stack of daily papers on her doorste...  \n",
       "9  How do you keep  \\r\\nThe music playing?  \\r\\nH...  "
      ]
     },
     "execution_count": 8,
     "metadata": {},
     "output_type": "execute_result"
    }
   ],
   "source": [
    "df.head(10)"
   ]
  },
  {
   "cell_type": "code",
   "execution_count": 9,
   "id": "0ed7fb34",
   "metadata": {},
   "outputs": [
    {
     "data": {
      "text/plain": [
       "'I used to walk with you  \\r\\nAlong the avenue  \\r\\nOur hearts were carefree and gay  \\r\\nHow could I know I\\'d lose you  \\r\\nSomewhere along the way?  \\r\\n  \\r\\nThe friends we used to know  \\r\\nWould always smile \"hello\"  \\r\\nNo love like our love they\\'d say  \\r\\nThen love slipped through our fingers  \\r\\nSomewhere along the way  \\r\\n  \\r\\nI should forget  \\r\\nBut with the loneliness of night I start remembering everything  \\r\\nYou\\'re gone and yet  \\r\\nThere\\'s still a feeling deep inside  \\r\\nThat you will always be part of me  \\r\\n  \\r\\n[Chorus]  \\r\\nSo now I look for you  \\r\\nAlong the avenue  \\r\\nAnd as I wander I pray  \\r\\nThat some day soon I\\'ll find you  \\r\\nSomewhere along the way  \\r\\n  \\r\\nI should forget  \\r\\nBut with the loneliness of night I start remembering everything  \\r\\nYou\\'re gone and yet  \\r\\nThere\\'s still a feeling deep inside  \\r\\nThat you will always be part of me  \\r\\n  \\r\\n[Chorus]  \\r\\n  \\r\\nSomewhere along the way\\r\\n\\r\\n'"
      ]
     },
     "execution_count": 9,
     "metadata": {},
     "output_type": "execute_result"
    }
   ],
   "source": [
    "df['text'][0]"
   ]
  },
  {
   "cell_type": "code",
   "execution_count": 10,
   "id": "ce600d23",
   "metadata": {
    "scrolled": true
   },
   "outputs": [],
   "source": [
    "df = df.sample(3000)"
   ]
  },
  {
   "cell_type": "code",
   "execution_count": 11,
   "id": "a97652eb",
   "metadata": {},
   "outputs": [
    {
     "data": {
      "text/plain": [
       "(3000, 3)"
      ]
     },
     "execution_count": 11,
     "metadata": {},
     "output_type": "execute_result"
    }
   ],
   "source": [
    "df.shape"
   ]
  },
  {
   "cell_type": "markdown",
   "id": "c570bf51",
   "metadata": {},
   "source": [
    "Text Cleaning/ Text Preprocessing"
   ]
  },
  {
   "cell_type": "code",
   "execution_count": 12,
   "id": "40a88bd0",
   "metadata": {},
   "outputs": [],
   "source": [
    "df['text'] = df['text'].str.lower().replace(r'^\\w\\s', ' ').replace(r'\\n', ' ', regex = True)\n"
   ]
  },
  {
   "cell_type": "code",
   "execution_count": 13,
   "id": "051d5631",
   "metadata": {},
   "outputs": [
    {
     "data": {
      "text/html": [
       "<div>\n",
       "<style scoped>\n",
       "    .dataframe tbody tr th:only-of-type {\n",
       "        vertical-align: middle;\n",
       "    }\n",
       "\n",
       "    .dataframe tbody tr th {\n",
       "        vertical-align: top;\n",
       "    }\n",
       "\n",
       "    .dataframe thead th {\n",
       "        text-align: right;\n",
       "    }\n",
       "</style>\n",
       "<table border=\"1\" class=\"dataframe\">\n",
       "  <thead>\n",
       "    <tr style=\"text-align: right;\">\n",
       "      <th></th>\n",
       "      <th>artist</th>\n",
       "      <th>song</th>\n",
       "      <th>text</th>\n",
       "    </tr>\n",
       "  </thead>\n",
       "  <tbody>\n",
       "    <tr>\n",
       "      <th>1013</th>\n",
       "      <td>Lou Reed</td>\n",
       "      <td>A Sheltered Life</td>\n",
       "      <td>never been to england, never been to france  \\...</td>\n",
       "    </tr>\n",
       "    <tr>\n",
       "      <th>426</th>\n",
       "      <td>Ray Charles</td>\n",
       "      <td>Moon Over Miami</td>\n",
       "      <td>moon over miami,  \\r shine on my love and me, ...</td>\n",
       "    </tr>\n",
       "    <tr>\n",
       "      <th>1926</th>\n",
       "      <td>Toto</td>\n",
       "      <td>Animal</td>\n",
       "      <td>i never felt like this with someone, i never k...</td>\n",
       "    </tr>\n",
       "    <tr>\n",
       "      <th>2642</th>\n",
       "      <td>Robbie Williams</td>\n",
       "      <td>It's Only Us</td>\n",
       "      <td>and they want us to grow up  \\r we don't want ...</td>\n",
       "    </tr>\n",
       "    <tr>\n",
       "      <th>297</th>\n",
       "      <td>Harry Connick, Jr.</td>\n",
       "      <td>This Christmas</td>\n",
       "      <td>hang all the mistletoe  \\r i'm gonna get to kn...</td>\n",
       "    </tr>\n",
       "    <tr>\n",
       "      <th>1655</th>\n",
       "      <td>Phil Collins</td>\n",
       "      <td>This Must Be Love</td>\n",
       "      <td>it must be love, i'm feeling  \\r this must be ...</td>\n",
       "    </tr>\n",
       "    <tr>\n",
       "      <th>584</th>\n",
       "      <td>Jackson Browne</td>\n",
       "      <td>The Late Show</td>\n",
       "      <td>everyone i've ever known has wished me well  \\...</td>\n",
       "    </tr>\n",
       "  </tbody>\n",
       "</table>\n",
       "</div>"
      ],
      "text/plain": [
       "                  artist               song  \\\n",
       "1013            Lou Reed   A Sheltered Life   \n",
       "426          Ray Charles    Moon Over Miami   \n",
       "1926                Toto             Animal   \n",
       "2642     Robbie Williams       It's Only Us   \n",
       "297   Harry Connick, Jr.     This Christmas   \n",
       "1655        Phil Collins  This Must Be Love   \n",
       "584       Jackson Browne      The Late Show   \n",
       "\n",
       "                                                   text  \n",
       "1013  never been to england, never been to france  \\...  \n",
       "426   moon over miami,  \\r shine on my love and me, ...  \n",
       "1926  i never felt like this with someone, i never k...  \n",
       "2642  and they want us to grow up  \\r we don't want ...  \n",
       "297   hang all the mistletoe  \\r i'm gonna get to kn...  \n",
       "1655  it must be love, i'm feeling  \\r this must be ...  \n",
       "584   everyone i've ever known has wished me well  \\...  "
      ]
     },
     "execution_count": 13,
     "metadata": {},
     "output_type": "execute_result"
    }
   ],
   "source": [
    "df.head(7)"
   ]
  },
  {
   "cell_type": "code",
   "execution_count": 14,
   "id": "f05fb221",
   "metadata": {},
   "outputs": [
    {
     "name": "stderr",
     "output_type": "stream",
     "text": [
      "[nltk_data] Downloading package punkt to\n",
      "[nltk_data]     C:\\Users\\Olamide\\AppData\\Roaming\\nltk_data...\n",
      "[nltk_data]   Package punkt is already up-to-date!\n"
     ]
    }
   ],
   "source": [
    "import nltk\n",
    "nltk.download('punkt')\n",
    "from nltk.stem.porter import PorterStemmer\n",
    "\n"
   ]
  },
  {
   "cell_type": "code",
   "execution_count": 15,
   "id": "8e39c737",
   "metadata": {
    "scrolled": true
   },
   "outputs": [],
   "source": [
    "# Initialize the PorterStemmer\n",
    "stemmer = PorterStemmer()"
   ]
  },
  {
   "cell_type": "code",
   "execution_count": 16,
   "id": "059d8d91",
   "metadata": {},
   "outputs": [],
   "source": [
    "def token(txt):\n",
    "    tokens = nltk.word_tokenize(txt)\n",
    "    # Apply stemming to each token\n",
    "    stemmed_tokens = [stemmer.stem(w) for w in tokens]\n",
    "    return \" \".join(stemmed_tokens)"
   ]
  },
  {
   "cell_type": "code",
   "execution_count": 17,
   "id": "df43c02a",
   "metadata": {},
   "outputs": [
    {
     "name": "stdout",
     "output_type": "stream",
     "text": [
      "you are beauti , beauti\n"
     ]
    }
   ],
   "source": [
    "# Example usage\n",
    "text = \"you are beautiful, beauty\"\n",
    "print(token(text))"
   ]
  },
  {
   "cell_type": "code",
   "execution_count": 18,
   "id": "37033edc",
   "metadata": {},
   "outputs": [],
   "source": [
    "# Apply the tokenization function to the 'text' column\n",
    "df['text'] = df['text'].apply(lambda x: token(x))"
   ]
  },
  {
   "cell_type": "code",
   "execution_count": 19,
   "id": "5a242ae8",
   "metadata": {},
   "outputs": [],
   "source": [
    "from sklearn.feature_extraction.text import TfidfVectorizer\n",
    "from sklearn.metrics.pairwise import cosine_similarity\n"
   ]
  },
  {
   "cell_type": "code",
   "execution_count": 20,
   "id": "81455d29",
   "metadata": {},
   "outputs": [],
   "source": [
    "tfidvector = TfidfVectorizer(analyzer='word',stop_words='english')\n",
    "matrix = tfidvector.fit_transform(df['text'])\n",
    "similarity = cosine_similarity(matrix)"
   ]
  },
  {
   "cell_type": "code",
   "execution_count": 21,
   "id": "f69e0b5b",
   "metadata": {},
   "outputs": [
    {
     "data": {
      "text/plain": [
       "array([1.        , 0.02736276, 0.11125045, ..., 0.04166963, 0.01686986,\n",
       "       0.10795753])"
      ]
     },
     "execution_count": 21,
     "metadata": {},
     "output_type": "execute_result"
    }
   ],
   "source": [
    "similarity[0]"
   ]
  },
  {
   "cell_type": "code",
   "execution_count": 23,
   "id": "491ecbd5",
   "metadata": {},
   "outputs": [
    {
     "data": {
      "text/plain": [
       "1013"
      ]
     },
     "execution_count": 23,
     "metadata": {},
     "output_type": "execute_result"
    }
   ],
   "source": [
    "df[df['song'] == 'A Sheltered Life'].index[0]"
   ]
  },
  {
   "cell_type": "markdown",
   "id": "07de5e81",
   "metadata": {},
   "source": [
    "Recommender Function"
   ]
  },
  {
   "cell_type": "code",
   "execution_count": 27,
   "id": "2b632939",
   "metadata": {},
   "outputs": [],
   "source": [
    "def recommendation(song_name):\n",
    "    # Check if any rows match the condition\n",
    "    if df[df['song'] == song_name].empty:\n",
    "        print(f\"No recommendations found for '{song_name}'.\")\n",
    "        return\n",
    "    \n",
    "    # Get the index of the first matching row\n",
    "    idx = df[df['song'] == song_name].index[0]\n",
    "    distances = sorted(list(enumerate(similarity[idx])), reverse=True, key=lambda x: x[1])\n",
    "    \n",
    "    song = []\n",
    "    for s_id in distances[1:21]:\n",
    "        song.append(df.iloc[s_id[0]].song)\n",
    "        \n",
    "    return song"
   ]
  },
  {
   "cell_type": "code",
   "execution_count": 31,
   "id": "d5a0fc58",
   "metadata": {
    "scrolled": true
   },
   "outputs": [
    {
     "data": {
      "text/plain": [
       "['Come So Far (Got So Far To Go)',\n",
       " 'Animal',\n",
       " 'Animals',\n",
       " 'Baby One More Time',\n",
       " 'Here Comes My Baby',\n",
       " 'There Goes My Baby',\n",
       " 'The Bottom Line',\n",
       " 'Watch And Learn',\n",
       " 'Superstar',\n",
       " 'Party Animal',\n",
       " 'Angel Baby',\n",
       " 'Dot Com',\n",
       " 'Here Comes My Baby',\n",
       " 'Time Is On My Side',\n",
       " \"I Can't Wait No Longer (Let's Do This)\",\n",
       " \"That's Right Baby\",\n",
       " \"I'm Not Your Baby\",\n",
       " 'What Are You Waiting For',\n",
       " \"I'm A Reader And A Writer\",\n",
       " 'Loving By The Pound']"
      ]
     },
     "execution_count": 31,
     "metadata": {},
     "output_type": "execute_result"
    }
   ],
   "source": [
    "recommendation(\"Let It Go\")"
   ]
  },
  {
   "cell_type": "code",
   "execution_count": 32,
   "id": "935fa7fd",
   "metadata": {},
   "outputs": [],
   "source": [
    "import pickle\n"
   ]
  },
  {
   "cell_type": "code",
   "execution_count": 34,
   "id": "b76225e6",
   "metadata": {},
   "outputs": [],
   "source": [
    "# Save the similarity matrix\n",
    "pickle.dump(similarity, open('similarity.pkl','wb'))"
   ]
  },
  {
   "cell_type": "code",
   "execution_count": 35,
   "id": "963814f3",
   "metadata": {},
   "outputs": [],
   "source": [
    "# Save the DataFrame\n",
    "pickle.dump(df, open('df.pkl','wb'))"
   ]
  },
  {
   "cell_type": "code",
   "execution_count": null,
   "id": "af5e2872",
   "metadata": {},
   "outputs": [],
   "source": []
  }
 ],
 "metadata": {
  "kernelspec": {
   "display_name": "Python 3 (ipykernel)",
   "language": "python",
   "name": "python3"
  },
  "language_info": {
   "codemirror_mode": {
    "name": "ipython",
    "version": 3
   },
   "file_extension": ".py",
   "mimetype": "text/x-python",
   "name": "python",
   "nbconvert_exporter": "python",
   "pygments_lexer": "ipython3",
   "version": "3.11.5"
  }
 },
 "nbformat": 4,
 "nbformat_minor": 5
}
